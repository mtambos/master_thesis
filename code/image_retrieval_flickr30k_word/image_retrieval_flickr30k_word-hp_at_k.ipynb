{
 "cells": [
  {
   "cell_type": "code",
   "execution_count": 1,
   "metadata": {},
   "outputs": [
    {
     "name": "stdout",
     "output_type": "stream",
     "text": [
      "Populating the interactive namespace from numpy and matplotlib\n"
     ]
    },
    {
     "name": "stderr",
     "output_type": "stream",
     "text": [
      "/home/mtambos/anaconda/envs/thesis/lib/python3.6/site-packages/h5py/__init__.py:36: FutureWarning: Conversion of the second argument of issubdtype from `float` to `np.floating` is deprecated. In future, it will be treated as `np.float64 == np.dtype(float).type`.\n",
      "  from ._conv import register_converters as _register_converters\n",
      "Using TensorFlow backend.\n",
      "/home/mtambos/anaconda/envs/thesis/lib/python3.6/importlib/_bootstrap.py:219: RuntimeWarning: compiletime version 3.5 of module 'tensorflow.python.framework.fast_tensor_util' does not match runtime version 3.6\n",
      "  return f(*args, **kwds)\n"
     ]
    }
   ],
   "source": [
    "%load_ext autoreload\n",
    "%autoreload 2\n",
    "%pylab inline\n",
    "\n",
    "from collections import OrderedDict\n",
    "import glob\n",
    "import json\n",
    "import os\n",
    "from pathlib import Path\n",
    "import pickle\n",
    "import re\n",
    "import shutil\n",
    "\n",
    "from keras import backend as K\n",
    "from keras.applications.imagenet_utils import decode_predictions, preprocess_input\n",
    "from keras.models import Model\n",
    "from keras.preprocessing.image import (ImageDataGenerator, array_to_img,\n",
    "                                       img_to_array, load_img)\n",
    "from keras.utils import plot_model\n",
    "from nltk.corpus import wordnet as wn\n",
    "import networkx as nx\n",
    "from networkx.algorithms.shortest_paths.generic import shortest_path_length as nx_shortest_path_length\n",
    "from networkx.algorithms.shortest_paths.unweighted import single_source_shortest_path as nx_single_source_shortest_path\n",
    "import pandas as pd\n",
    "from scipy.spatial.distance import cdist, pdist\n",
    "from skimage.transform import resize\n",
    "from sklearn.neighbors import BallTree\n",
    "import seaborn as sns\n",
    "import somoclu\n",
    "import spacy\n",
    "import tensorflow as tf\n",
    "from tqdm import tqdm_notebook as tqdmn, tqdm_pandas as tqdmpd\n",
    "\n",
    "from AlexNet import AlexNet, preprocess_image_batch\n",
    "import multimodal_som as mmsom\n",
    "\n",
    "\n",
    "def show_imgs(imgs, ax=None):\n",
    "    N, M, IN, IM, C = imgs.shape\n",
    "    imgs = imgs.transpose(0, 2, 1, 3, 4).reshape(N*IN, M*IM, C)\n",
    "    if ax is None:\n",
    "        ax = plt.figure(figsize=(16, 8)).gca()\n",
    "    ax.imshow(imgs)\n",
    "\n",
    "\n",
    "img_dir = Path('/data/master_thesis/Flickr8k_Dataset/')\n",
    "mmsom.tqdm = tqdmn\n",
    "sns.set(style='ticks', context='poster')\n",
    "pd.set_option('display.max_rows', 12)"
   ]
  },
  {
   "cell_type": "code",
   "execution_count": 2,
   "metadata": {},
   "outputs": [],
   "source": [
    "def get_nhop_set(base_wnids, wn_is_a, n_hops, super_wnids=None):\n",
    "    g = nx.Graph()\n",
    "    g.add_edges_from(wn_is_a.as_matrix())\n",
    "    base_wnids = set(base_wnids)\n",
    "    if super_wnids is None:\n",
    "        super_wnids = set(wn_is_a.wnid) | set(wn_is_a.parent_wnid)\n",
    "    super_wnids = set(super_wnids)\n",
    "\n",
    "    ret_val = set(base_wnids)\n",
    "    for base_wnid in tqdmn(base_wnids):\n",
    "        paths = nx_shortest_path_length(g, source=base_wnid)\n",
    "        paths = sorted(paths.items(), key=lambda x: x[1])\n",
    "        for wnid, hops in paths:\n",
    "            if hops > n_hops:\n",
    "                break\n",
    "            elif wnid in super_wnids:\n",
    "                ret_val.add(wnid)\n",
    "    return ret_val\n",
    "\n",
    "\n",
    "def get_nhop_k_set(true_wnids, wn_is_a, k, valid_wnids=None):\n",
    "    g = nx.Graph()\n",
    "    g.add_edges_from(wn_is_a.as_matrix())\n",
    "    true_wnids = set(true_wnids)\n",
    "    if valid_wnids is None:\n",
    "        valid_wnids = set(wn_is_a.wnid) | set(wn_is_a.parent_wnid)\n",
    "    valid_wnids = set(valid_wnids)\n",
    "\n",
    "    ret_val = {true_wnid: set() for true_wnid in true_wnids}\n",
    "    for true_wnid in tqdmn(true_wnids):\n",
    "        correct_true_wnid = ret_val[true_wnid]\n",
    "        if true_wnid not in g.nodes:\n",
    "            correct_true_wnid.add(true_wnid)\n",
    "            continue\n",
    "        paths = nx_shortest_path_length(g, source=true_wnid)\n",
    "        paths = sorted(paths.items(), key=lambda x: x[1])\n",
    "        n_hops = 0\n",
    "        while len(correct_true_wnid) < k and n_hops < len(valid_wnids):\n",
    "            radius_set = {true_wnid}\n",
    "            for wnid, hops in paths:\n",
    "                if hops > n_hops:\n",
    "                    break\n",
    "                radius_set.add(wnid)\n",
    "            \n",
    "            radius_set &= valid_wnids\n",
    "            correct_true_wnid.update(radius_set)\n",
    "            n_hops += 1\n",
    "    return ret_val"
   ]
  },
  {
   "cell_type": "code",
   "execution_count": 3,
   "metadata": {},
   "outputs": [],
   "source": [
    "from multiset import Multiset\n",
    "\n",
    "def hp_at_k(y_true, y_pred, correct_sets, k):\n",
    "    return len(Multiset(y_pred[:k]) & Multiset(correct_sets[y_true]))/k"
   ]
  },
  {
   "cell_type": "code",
   "execution_count": 4,
   "metadata": {},
   "outputs": [
    {
     "data": {
      "text/html": [
       "<div>\n",
       "<style scoped>\n",
       "    .dataframe tbody tr th:only-of-type {\n",
       "        vertical-align: middle;\n",
       "    }\n",
       "\n",
       "    .dataframe tbody tr th {\n",
       "        vertical-align: top;\n",
       "    }\n",
       "\n",
       "    .dataframe thead th {\n",
       "        text-align: right;\n",
       "    }\n",
       "</style>\n",
       "<table border=\"1\" class=\"dataframe\">\n",
       "  <thead>\n",
       "    <tr style=\"text-align: right;\">\n",
       "      <th></th>\n",
       "      <th>parent_wnid</th>\n",
       "      <th>wnid</th>\n",
       "    </tr>\n",
       "  </thead>\n",
       "  <tbody>\n",
       "    <tr>\n",
       "      <th>0</th>\n",
       "      <td>n02118333</td>\n",
       "      <td>n02119789</td>\n",
       "    </tr>\n",
       "    <tr>\n",
       "      <th>1</th>\n",
       "      <td>n02471300</td>\n",
       "      <td>n02478875</td>\n",
       "    </tr>\n",
       "    <tr>\n",
       "      <th>2</th>\n",
       "      <td>n02471762</td>\n",
       "      <td>n02473983</td>\n",
       "    </tr>\n",
       "    <tr>\n",
       "      <th>3</th>\n",
       "      <td>n02100399</td>\n",
       "      <td>n02100735</td>\n",
       "    </tr>\n",
       "    <tr>\n",
       "      <th>4</th>\n",
       "      <td>n02374149</td>\n",
       "      <td>n02390258</td>\n",
       "    </tr>\n",
       "  </tbody>\n",
       "</table>\n",
       "</div>"
      ],
      "text/plain": [
       "  parent_wnid       wnid\n",
       "0   n02118333  n02119789\n",
       "1   n02471300  n02478875\n",
       "2   n02471762  n02473983\n",
       "3   n02100399  n02100735\n",
       "4   n02374149  n02390258"
      ]
     },
     "execution_count": 4,
     "metadata": {},
     "output_type": "execute_result"
    }
   ],
   "source": [
    "wn_is_a = pd.read_table('/data/master_thesis/wordnet.is_a.txt', names=['parent_wnid', 'wnid'], sep=' ')\n",
    "wn_is_a.head()"
   ]
  },
  {
   "cell_type": "code",
   "execution_count": 5,
   "metadata": {
    "collapsed": true
   },
   "outputs": [],
   "source": [
    "nlp = spacy.load('en_core_web_md')"
   ]
  },
  {
   "cell_type": "code",
   "execution_count": 4,
   "metadata": {},
   "outputs": [
    {
     "data": {
      "text/html": [
       "<div>\n",
       "<style scoped>\n",
       "    .dataframe tbody tr th:only-of-type {\n",
       "        vertical-align: middle;\n",
       "    }\n",
       "\n",
       "    .dataframe tbody tr th {\n",
       "        vertical-align: top;\n",
       "    }\n",
       "\n",
       "    .dataframe thead th {\n",
       "        text-align: right;\n",
       "    }\n",
       "</style>\n",
       "<table border=\"1\" class=\"dataframe\">\n",
       "  <thead>\n",
       "    <tr style=\"text-align: right;\">\n",
       "      <th></th>\n",
       "      <th>vector_0</th>\n",
       "      <th>vector_1</th>\n",
       "      <th>vector_2</th>\n",
       "      <th>vector_3</th>\n",
       "      <th>vector_4</th>\n",
       "      <th>vector_5</th>\n",
       "      <th>vector_6</th>\n",
       "      <th>vector_7</th>\n",
       "      <th>vector_8</th>\n",
       "      <th>vector_9</th>\n",
       "      <th>...</th>\n",
       "      <th>vector_291</th>\n",
       "      <th>vector_292</th>\n",
       "      <th>vector_293</th>\n",
       "      <th>vector_294</th>\n",
       "      <th>vector_295</th>\n",
       "      <th>vector_296</th>\n",
       "      <th>vector_297</th>\n",
       "      <th>vector_298</th>\n",
       "      <th>vector_299</th>\n",
       "      <th>word</th>\n",
       "    </tr>\n",
       "  </thead>\n",
       "  <tbody>\n",
       "    <tr>\n",
       "      <th>0</th>\n",
       "      <td>0.385300</td>\n",
       "      <td>0.13618</td>\n",
       "      <td>0.59719</td>\n",
       "      <td>0.183430</td>\n",
       "      <td>-0.141900</td>\n",
       "      <td>-0.064433</td>\n",
       "      <td>0.091606</td>\n",
       "      <td>0.57574</td>\n",
       "      <td>0.88234</td>\n",
       "      <td>0.63385</td>\n",
       "      <td>...</td>\n",
       "      <td>-0.063343</td>\n",
       "      <td>-0.72641</td>\n",
       "      <td>0.592020</td>\n",
       "      <td>0.14770</td>\n",
       "      <td>-0.091060</td>\n",
       "      <td>-0.111260</td>\n",
       "      <td>-0.32848</td>\n",
       "      <td>0.565230</td>\n",
       "      <td>-0.67985</td>\n",
       "      <td>wicket</td>\n",
       "    </tr>\n",
       "    <tr>\n",
       "      <th>1</th>\n",
       "      <td>-0.016269</td>\n",
       "      <td>-0.66774</td>\n",
       "      <td>-0.21387</td>\n",
       "      <td>-0.479190</td>\n",
       "      <td>-0.624370</td>\n",
       "      <td>0.551470</td>\n",
       "      <td>-0.091257</td>\n",
       "      <td>-0.26658</td>\n",
       "      <td>0.36018</td>\n",
       "      <td>0.88362</td>\n",
       "      <td>...</td>\n",
       "      <td>0.087071</td>\n",
       "      <td>-0.31702</td>\n",
       "      <td>0.490470</td>\n",
       "      <td>-0.24666</td>\n",
       "      <td>0.655510</td>\n",
       "      <td>0.140950</td>\n",
       "      <td>0.53461</td>\n",
       "      <td>-0.324080</td>\n",
       "      <td>0.24846</td>\n",
       "      <td>monkey</td>\n",
       "    </tr>\n",
       "    <tr>\n",
       "      <th>2</th>\n",
       "      <td>-0.400600</td>\n",
       "      <td>-0.16396</td>\n",
       "      <td>0.40008</td>\n",
       "      <td>0.835210</td>\n",
       "      <td>-0.357100</td>\n",
       "      <td>0.827780</td>\n",
       "      <td>-0.138230</td>\n",
       "      <td>-0.16133</td>\n",
       "      <td>-0.23525</td>\n",
       "      <td>1.46380</td>\n",
       "      <td>...</td>\n",
       "      <td>-0.412130</td>\n",
       "      <td>-0.43138</td>\n",
       "      <td>0.003545</td>\n",
       "      <td>0.00082</td>\n",
       "      <td>-0.367900</td>\n",
       "      <td>-0.242250</td>\n",
       "      <td>-0.65519</td>\n",
       "      <td>-0.242870</td>\n",
       "      <td>0.55420</td>\n",
       "      <td>source</td>\n",
       "    </tr>\n",
       "    <tr>\n",
       "      <th>3</th>\n",
       "      <td>0.012832</td>\n",
       "      <td>0.22669</td>\n",
       "      <td>-0.17511</td>\n",
       "      <td>0.602480</td>\n",
       "      <td>0.096562</td>\n",
       "      <td>-0.206570</td>\n",
       "      <td>0.390550</td>\n",
       "      <td>-0.64990</td>\n",
       "      <td>0.12015</td>\n",
       "      <td>3.19590</td>\n",
       "      <td>...</td>\n",
       "      <td>0.086623</td>\n",
       "      <td>-0.16848</td>\n",
       "      <td>0.424830</td>\n",
       "      <td>0.34597</td>\n",
       "      <td>0.029642</td>\n",
       "      <td>0.002229</td>\n",
       "      <td>0.17134</td>\n",
       "      <td>0.040047</td>\n",
       "      <td>-0.37131</td>\n",
       "      <td>mother</td>\n",
       "    </tr>\n",
       "    <tr>\n",
       "      <th>4</th>\n",
       "      <td>0.693840</td>\n",
       "      <td>-1.34820</td>\n",
       "      <td>0.30036</td>\n",
       "      <td>0.009335</td>\n",
       "      <td>-0.206420</td>\n",
       "      <td>-0.016727</td>\n",
       "      <td>0.267700</td>\n",
       "      <td>-0.54181</td>\n",
       "      <td>-0.53659</td>\n",
       "      <td>0.58871</td>\n",
       "      <td>...</td>\n",
       "      <td>-0.250110</td>\n",
       "      <td>0.10779</td>\n",
       "      <td>0.265700</td>\n",
       "      <td>-0.17284</td>\n",
       "      <td>0.312720</td>\n",
       "      <td>0.003351</td>\n",
       "      <td>0.53952</td>\n",
       "      <td>0.252890</td>\n",
       "      <td>-0.35419</td>\n",
       "      <td>drap</td>\n",
       "    </tr>\n",
       "  </tbody>\n",
       "</table>\n",
       "<p>5 rows × 301 columns</p>\n",
       "</div>"
      ],
      "text/plain": [
       "   vector_0  vector_1  vector_2  vector_3  vector_4  vector_5  vector_6  \\\n",
       "0  0.385300   0.13618   0.59719  0.183430 -0.141900 -0.064433  0.091606   \n",
       "1 -0.016269  -0.66774  -0.21387 -0.479190 -0.624370  0.551470 -0.091257   \n",
       "2 -0.400600  -0.16396   0.40008  0.835210 -0.357100  0.827780 -0.138230   \n",
       "3  0.012832   0.22669  -0.17511  0.602480  0.096562 -0.206570  0.390550   \n",
       "4  0.693840  -1.34820   0.30036  0.009335 -0.206420 -0.016727  0.267700   \n",
       "\n",
       "   vector_7  vector_8  vector_9   ...    vector_291  vector_292  vector_293  \\\n",
       "0   0.57574   0.88234   0.63385   ...     -0.063343    -0.72641    0.592020   \n",
       "1  -0.26658   0.36018   0.88362   ...      0.087071    -0.31702    0.490470   \n",
       "2  -0.16133  -0.23525   1.46380   ...     -0.412130    -0.43138    0.003545   \n",
       "3  -0.64990   0.12015   3.19590   ...      0.086623    -0.16848    0.424830   \n",
       "4  -0.54181  -0.53659   0.58871   ...     -0.250110     0.10779    0.265700   \n",
       "\n",
       "   vector_294  vector_295  vector_296  vector_297  vector_298  vector_299  \\\n",
       "0     0.14770   -0.091060   -0.111260    -0.32848    0.565230    -0.67985   \n",
       "1    -0.24666    0.655510    0.140950     0.53461   -0.324080     0.24846   \n",
       "2     0.00082   -0.367900   -0.242250    -0.65519   -0.242870     0.55420   \n",
       "3     0.34597    0.029642    0.002229     0.17134    0.040047    -0.37131   \n",
       "4    -0.17284    0.312720    0.003351     0.53952    0.252890    -0.35419   \n",
       "\n",
       "     word  \n",
       "0  wicket  \n",
       "1  monkey  \n",
       "2  source  \n",
       "3  mother  \n",
       "4    drap  \n",
       "\n",
       "[5 rows x 301 columns]"
      ]
     },
     "execution_count": 4,
     "metadata": {},
     "output_type": "execute_result"
    }
   ],
   "source": [
    "vec2word = pd.read_csv('vec2word.csv')\n",
    "vec2word.head()"
   ]
  },
  {
   "cell_type": "code",
   "execution_count": 6,
   "metadata": {},
   "outputs": [
    {
     "data": {
      "text/html": [
       "<div>\n",
       "<style scoped>\n",
       "    .dataframe tbody tr th:only-of-type {\n",
       "        vertical-align: middle;\n",
       "    }\n",
       "\n",
       "    .dataframe tbody tr th {\n",
       "        vertical-align: top;\n",
       "    }\n",
       "\n",
       "    .dataframe thead th {\n",
       "        text-align: right;\n",
       "    }\n",
       "</style>\n",
       "<table border=\"1\" class=\"dataframe\">\n",
       "  <thead>\n",
       "    <tr style=\"text-align: right;\">\n",
       "      <th></th>\n",
       "      <th>doc_rank</th>\n",
       "      <th>word</th>\n",
       "    </tr>\n",
       "    <tr>\n",
       "      <th>fname</th>\n",
       "      <th></th>\n",
       "      <th></th>\n",
       "    </tr>\n",
       "  </thead>\n",
       "  <tbody>\n",
       "    <tr>\n",
       "      <th>/data/master_thesis/Flickr30k_Dataset/2384507273.jpg</th>\n",
       "      <td>0</td>\n",
       "      <td>workers</td>\n",
       "    </tr>\n",
       "    <tr>\n",
       "      <th>/data/master_thesis/Flickr30k_Dataset/2384507273.jpg</th>\n",
       "      <td>0</td>\n",
       "      <td>scaffolding</td>\n",
       "    </tr>\n",
       "    <tr>\n",
       "      <th>/data/master_thesis/Flickr30k_Dataset/2384507273.jpg</th>\n",
       "      <td>0</td>\n",
       "      <td>street</td>\n",
       "    </tr>\n",
       "    <tr>\n",
       "      <th>/data/master_thesis/Flickr30k_Dataset/2384507273.jpg</th>\n",
       "      <td>0</td>\n",
       "      <td>business</td>\n",
       "    </tr>\n",
       "    <tr>\n",
       "      <th>/data/master_thesis/Flickr30k_Dataset/2384507273.jpg</th>\n",
       "      <td>1</td>\n",
       "      <td>men</td>\n",
       "    </tr>\n",
       "  </tbody>\n",
       "</table>\n",
       "</div>"
      ],
      "text/plain": [
       "                                                    doc_rank         word\n",
       "fname                                                                    \n",
       "/data/master_thesis/Flickr30k_Dataset/238450727...         0      workers\n",
       "/data/master_thesis/Flickr30k_Dataset/238450727...         0  scaffolding\n",
       "/data/master_thesis/Flickr30k_Dataset/238450727...         0       street\n",
       "/data/master_thesis/Flickr30k_Dataset/238450727...         0     business\n",
       "/data/master_thesis/Flickr30k_Dataset/238450727...         1          men"
      ]
     },
     "execution_count": 6,
     "metadata": {},
     "output_type": "execute_result"
    }
   ],
   "source": [
    "test_words = pd.read_csv('test_words.csv', index_col='fname')\n",
    "test_words.head()"
   ]
  },
  {
   "cell_type": "code",
   "execution_count": 40,
   "metadata": {},
   "outputs": [
    {
     "data": {
      "text/plain": [
       "(8035, 3633)"
      ]
     },
     "execution_count": 40,
     "metadata": {},
     "output_type": "execute_result"
    }
   ],
   "source": [
    "true_wnids = set(f'{ss.pos()}{ss.offset():>08}'.lower()\n",
    "                 for w in vec2word.word\n",
    "                 for ss in wn.synsets(w) if ss.pos() == 'n')\n",
    "len(true_wnids), len(vec2word.word)"
   ]
  },
  {
   "cell_type": "code",
   "execution_count": 42,
   "metadata": {},
   "outputs": [
    {
     "data": {
      "application/vnd.jupyter.widget-view+json": {
       "model_id": "4fa2210d2d6542fda153df49195eb4d0",
       "version_major": 2,
       "version_minor": 0
      },
      "text/html": [
       "<p>Failed to display Jupyter Widget of type <code>HBox</code>.</p>\n",
       "<p>\n",
       "  If you're reading this message in the Jupyter Notebook or JupyterLab Notebook, it may mean\n",
       "  that the widgets JavaScript is still loading. If this message persists, it\n",
       "  likely means that the widgets JavaScript library is either not installed or\n",
       "  not enabled. See the <a href=\"https://ipywidgets.readthedocs.io/en/stable/user_install.html\">Jupyter\n",
       "  Widgets Documentation</a> for setup instructions.\n",
       "</p>\n",
       "<p>\n",
       "  If you're reading this message in another frontend (for example, a static\n",
       "  rendering on GitHub or <a href=\"https://nbviewer.jupyter.org/\">NBViewer</a>),\n",
       "  it may mean that your frontend doesn't currently support widgets.\n",
       "</p>\n"
      ],
      "text/plain": [
       "HBox(children=(IntProgress(value=0, max=8035), HTML(value='')))"
      ]
     },
     "metadata": {},
     "output_type": "display_data"
    },
    {
     "name": "stdout",
     "output_type": "stream",
     "text": [
      "\n"
     ]
    }
   ],
   "source": [
    "flickr8k_word_2k = get_nhop_k_set(true_wnids, wn_is_a, 2)"
   ]
  },
  {
   "cell_type": "code",
   "execution_count": 46,
   "metadata": {},
   "outputs": [
    {
     "data": {
      "application/vnd.jupyter.widget-view+json": {
       "model_id": "8763a00e4f104d71a82cfa40b5867b75",
       "version_major": 2,
       "version_minor": 0
      },
      "text/html": [
       "<p>Failed to display Jupyter Widget of type <code>HBox</code>.</p>\n",
       "<p>\n",
       "  If you're reading this message in the Jupyter Notebook or JupyterLab Notebook, it may mean\n",
       "  that the widgets JavaScript is still loading. If this message persists, it\n",
       "  likely means that the widgets JavaScript library is either not installed or\n",
       "  not enabled. See the <a href=\"https://ipywidgets.readthedocs.io/en/stable/user_install.html\">Jupyter\n",
       "  Widgets Documentation</a> for setup instructions.\n",
       "</p>\n",
       "<p>\n",
       "  If you're reading this message in another frontend (for example, a static\n",
       "  rendering on GitHub or <a href=\"https://nbviewer.jupyter.org/\">NBViewer</a>),\n",
       "  it may mean that your frontend doesn't currently support widgets.\n",
       "</p>\n"
      ],
      "text/plain": [
       "HBox(children=(IntProgress(value=0, max=8035), HTML(value='')))"
      ]
     },
     "metadata": {},
     "output_type": "display_data"
    },
    {
     "name": "stdout",
     "output_type": "stream",
     "text": [
      "\n"
     ]
    }
   ],
   "source": [
    "flickr8k_word_5k = get_nhop_k_set(true_wnids, wn_is_a, 5)"
   ]
  },
  {
   "cell_type": "code",
   "execution_count": 47,
   "metadata": {},
   "outputs": [
    {
     "data": {
      "application/vnd.jupyter.widget-view+json": {
       "model_id": "e2ca28e2f50448339226f47d90cd1bec",
       "version_major": 2,
       "version_minor": 0
      },
      "text/html": [
       "<p>Failed to display Jupyter Widget of type <code>HBox</code>.</p>\n",
       "<p>\n",
       "  If you're reading this message in the Jupyter Notebook or JupyterLab Notebook, it may mean\n",
       "  that the widgets JavaScript is still loading. If this message persists, it\n",
       "  likely means that the widgets JavaScript library is either not installed or\n",
       "  not enabled. See the <a href=\"https://ipywidgets.readthedocs.io/en/stable/user_install.html\">Jupyter\n",
       "  Widgets Documentation</a> for setup instructions.\n",
       "</p>\n",
       "<p>\n",
       "  If you're reading this message in another frontend (for example, a static\n",
       "  rendering on GitHub or <a href=\"https://nbviewer.jupyter.org/\">NBViewer</a>),\n",
       "  it may mean that your frontend doesn't currently support widgets.\n",
       "</p>\n"
      ],
      "text/plain": [
       "HBox(children=(IntProgress(value=0, max=8035), HTML(value='')))"
      ]
     },
     "metadata": {},
     "output_type": "display_data"
    },
    {
     "name": "stdout",
     "output_type": "stream",
     "text": [
      "\n"
     ]
    }
   ],
   "source": [
    "flickr8k_word_10k = get_nhop_k_set(true_wnids, wn_is_a, 10)"
   ]
  },
  {
   "cell_type": "code",
   "execution_count": 48,
   "metadata": {},
   "outputs": [
    {
     "data": {
      "application/vnd.jupyter.widget-view+json": {
       "model_id": "2e406eb2c31742e18b0aaee64a6ef0fd",
       "version_major": 2,
       "version_minor": 0
      },
      "text/html": [
       "<p>Failed to display Jupyter Widget of type <code>HBox</code>.</p>\n",
       "<p>\n",
       "  If you're reading this message in the Jupyter Notebook or JupyterLab Notebook, it may mean\n",
       "  that the widgets JavaScript is still loading. If this message persists, it\n",
       "  likely means that the widgets JavaScript library is either not installed or\n",
       "  not enabled. See the <a href=\"https://ipywidgets.readthedocs.io/en/stable/user_install.html\">Jupyter\n",
       "  Widgets Documentation</a> for setup instructions.\n",
       "</p>\n",
       "<p>\n",
       "  If you're reading this message in another frontend (for example, a static\n",
       "  rendering on GitHub or <a href=\"https://nbviewer.jupyter.org/\">NBViewer</a>),\n",
       "  it may mean that your frontend doesn't currently support widgets.\n",
       "</p>\n"
      ],
      "text/plain": [
       "HBox(children=(IntProgress(value=0, max=8035), HTML(value='')))"
      ]
     },
     "metadata": {},
     "output_type": "display_data"
    },
    {
     "name": "stdout",
     "output_type": "stream",
     "text": [
      "\n"
     ]
    }
   ],
   "source": [
    "flickr8k_word_20k = get_nhop_k_set(true_wnids, wn_is_a, 20)"
   ]
  },
  {
   "cell_type": "code",
   "execution_count": 52,
   "metadata": {},
   "outputs": [],
   "source": [
    "with open('flickr8k_word_2k.pickle', 'wb') as fp:\n",
    "    pickle.dump(flickr8k_word_2k, fp)\n",
    "\n",
    "with open('flickr8k_word_5k.pickle', 'wb') as fp:\n",
    "    pickle.dump(flickr8k_word_5k, fp)\n",
    "\n",
    "with open('flickr8k_word_10k.pickle', 'wb') as fp:\n",
    "    pickle.dump(flickr8k_word_10k, fp)\n",
    "\n",
    "with open('flickr8k_word_20k.pickle', 'wb') as fp:\n",
    "    pickle.dump(flickr8k_word_20k, fp)"
   ]
  },
  {
   "cell_type": "code",
   "execution_count": 59,
   "metadata": {},
   "outputs": [
    {
     "data": {
      "text/plain": [
       "(('101669240_b2d3e7f17b.jpg', 1, 'hat'),\n",
       " Index(['/data/master_thesis/Flickr8k_Dataset/370442541_60d93ecd13.jpg',\n",
       "        '/data/master_thesis/Flickr8k_Dataset/2844963839_ff09cdb81f.jpg',\n",
       "        '/data/master_thesis/Flickr8k_Dataset/3368865171_597d51cdd5.jpg',\n",
       "        '/data/master_thesis/Flickr8k_Dataset/2500354186_0836309cc9.jpg',\n",
       "        '/data/master_thesis/Flickr8k_Dataset/241345446_2e47ae8ddc.jpg',\n",
       "        '/data/master_thesis/Flickr8k_Dataset/3561639055_5ac66ae92f.jpg',\n",
       "        '/data/master_thesis/Flickr8k_Dataset/2039457436_fc30f5e1ce.jpg',\n",
       "        '/data/master_thesis/Flickr8k_Dataset/405961988_fcfe97f31e.jpg',\n",
       "        '/data/master_thesis/Flickr8k_Dataset/3039214579_43ef79f931.jpg',\n",
       "        '/data/master_thesis/Flickr8k_Dataset/241345942_ea76966542.jpg',\n",
       "        '/data/master_thesis/Flickr8k_Dataset/2009636597_e3f4fe19fb.jpg',\n",
       "        '/data/master_thesis/Flickr8k_Dataset/3606084228_6286a52875.jpg',\n",
       "        '/data/master_thesis/Flickr8k_Dataset/2896668718_0c3cff910f.jpg',\n",
       "        '/data/master_thesis/Flickr8k_Dataset/2982881046_45765ced2c.jpg',\n",
       "        '/data/master_thesis/Flickr8k_Dataset/1691573772_1adef8e40e.jpg',\n",
       "        '/data/master_thesis/Flickr8k_Dataset/3484832904_08619300d9.jpg',\n",
       "        '/data/master_thesis/Flickr8k_Dataset/3546720729_38fff1bbd9.jpg',\n",
       "        '/data/master_thesis/Flickr8k_Dataset/2866093652_aa717eb9ce.jpg',\n",
       "        '/data/master_thesis/Flickr8k_Dataset/241345427_ece0d186c2.jpg',\n",
       "        '/data/master_thesis/Flickr8k_Dataset/576093768_e78f91c176.jpg'],\n",
       "       dtype='object', name='fname'))"
      ]
     },
     "execution_count": 59,
     "metadata": {},
     "output_type": "execute_result"
    }
   ],
   "source": [
    "with open('results_words.pickle', 'rb') as fp:\n",
    "    results = pickle.load(fp)\n",
    "list(results.items())[0]"
   ]
  },
  {
   "cell_type": "code",
   "execution_count": 87,
   "metadata": {},
   "outputs": [
    {
     "data": {
      "application/vnd.jupyter.widget-view+json": {
       "model_id": "ed959f22b3c945ebb51cc6c66a563e7d",
       "version_major": 2,
       "version_minor": 0
      },
      "text/html": [
       "<p>Failed to display Jupyter Widget of type <code>HBox</code>.</p>\n",
       "<p>\n",
       "  If you're reading this message in the Jupyter Notebook or JupyterLab Notebook, it may mean\n",
       "  that the widgets JavaScript is still loading. If this message persists, it\n",
       "  likely means that the widgets JavaScript library is either not installed or\n",
       "  not enabled. See the <a href=\"https://ipywidgets.readthedocs.io/en/stable/user_install.html\">Jupyter\n",
       "  Widgets Documentation</a> for setup instructions.\n",
       "</p>\n",
       "<p>\n",
       "  If you're reading this message in another frontend (for example, a static\n",
       "  rendering on GitHub or <a href=\"https://nbviewer.jupyter.org/\">NBViewer</a>),\n",
       "  it may mean that your frontend doesn't currently support widgets.\n",
       "</p>\n"
      ],
      "text/plain": [
       "HBox(children=(IntProgress(value=0, max=15172), HTML(value='')))"
      ]
     },
     "metadata": {},
     "output_type": "display_data"
    },
    {
     "data": {
      "text/plain": [
       "0.027001724230831404"
      ]
     },
     "execution_count": 87,
     "metadata": {},
     "output_type": "execute_result"
    }
   ],
   "source": [
    "np.mean([\n",
    "    hp_at_k(f'{ss.pos()}{ss.offset():>08}'.lower(),\n",
    "            list(OrderedDict([\n",
    "                (f'{s.pos()}{s.offset():>08}'.lower(), None)\n",
    "                for fname in img_pred\n",
    "                for w in test_words.loc[Path(fname).name, 'word']\n",
    "                for s in wn.synsets(w) if s.pos() == 'n'\n",
    "            ]).keys()),\n",
    "            flickr8k_word_2k,\n",
    "            2)\n",
    "    for (img_true, _, word), img_pred in tqdmn(results.items(), total=len(results))\n",
    "    for ss in wn.synsets(word) if ss.pos() == 'n'\n",
    "    if f'{ss.pos()}{ss.offset():>08}'.lower() in flickr8k_word_2k\n",
    "])"
   ]
  },
  {
   "cell_type": "code",
   "execution_count": 88,
   "metadata": {},
   "outputs": [
    {
     "data": {
      "application/vnd.jupyter.widget-view+json": {
       "model_id": "2ffb4966883c4feebaae8a3d7372b67d",
       "version_major": 2,
       "version_minor": 0
      },
      "text/html": [
       "<p>Failed to display Jupyter Widget of type <code>HBox</code>.</p>\n",
       "<p>\n",
       "  If you're reading this message in the Jupyter Notebook or JupyterLab Notebook, it may mean\n",
       "  that the widgets JavaScript is still loading. If this message persists, it\n",
       "  likely means that the widgets JavaScript library is either not installed or\n",
       "  not enabled. See the <a href=\"https://ipywidgets.readthedocs.io/en/stable/user_install.html\">Jupyter\n",
       "  Widgets Documentation</a> for setup instructions.\n",
       "</p>\n",
       "<p>\n",
       "  If you're reading this message in another frontend (for example, a static\n",
       "  rendering on GitHub or <a href=\"https://nbviewer.jupyter.org/\">NBViewer</a>),\n",
       "  it may mean that your frontend doesn't currently support widgets.\n",
       "</p>\n"
      ],
      "text/plain": [
       "HBox(children=(IntProgress(value=0, max=15172), HTML(value='')))"
      ]
     },
     "metadata": {},
     "output_type": "display_data"
    },
    {
     "data": {
      "text/plain": [
       "0.028185785872083632"
      ]
     },
     "execution_count": 88,
     "metadata": {},
     "output_type": "execute_result"
    }
   ],
   "source": [
    "np.mean([\n",
    "    hp_at_k(f'{ss.pos()}{ss.offset():>08}'.lower(),\n",
    "            list(OrderedDict([\n",
    "                (f'{s.pos()}{s.offset():>08}'.lower(), None)\n",
    "                for fname in img_pred\n",
    "                for w in test_words.loc[Path(fname).name, 'word']\n",
    "                for s in wn.synsets(w) if s.pos() == 'n'\n",
    "            ]).keys()),\n",
    "            flickr8k_word_5k,\n",
    "            5)\n",
    "    for (img_true, _, word), img_pred in tqdmn(results.items(), total=len(results))\n",
    "    for ss in wn.synsets(word) if ss.pos() == 'n'\n",
    "    if f'{ss.pos()}{ss.offset():>08}'.lower() in flickr8k_word_5k\n",
    "])"
   ]
  },
  {
   "cell_type": "code",
   "execution_count": 89,
   "metadata": {},
   "outputs": [
    {
     "data": {
      "application/vnd.jupyter.widget-view+json": {
       "model_id": "68e7e17dd2be4abaad020ce8f0b5990e",
       "version_major": 2,
       "version_minor": 0
      },
      "text/html": [
       "<p>Failed to display Jupyter Widget of type <code>HBox</code>.</p>\n",
       "<p>\n",
       "  If you're reading this message in the Jupyter Notebook or JupyterLab Notebook, it may mean\n",
       "  that the widgets JavaScript is still loading. If this message persists, it\n",
       "  likely means that the widgets JavaScript library is either not installed or\n",
       "  not enabled. See the <a href=\"https://ipywidgets.readthedocs.io/en/stable/user_install.html\">Jupyter\n",
       "  Widgets Documentation</a> for setup instructions.\n",
       "</p>\n",
       "<p>\n",
       "  If you're reading this message in another frontend (for example, a static\n",
       "  rendering on GitHub or <a href=\"https://nbviewer.jupyter.org/\">NBViewer</a>),\n",
       "  it may mean that your frontend doesn't currently support widgets.\n",
       "</p>\n"
      ],
      "text/plain": [
       "HBox(children=(IntProgress(value=0, max=15172), HTML(value='')))"
      ]
     },
     "metadata": {},
     "output_type": "display_data"
    },
    {
     "data": {
      "text/plain": [
       "0.026360525890403583"
      ]
     },
     "execution_count": 89,
     "metadata": {},
     "output_type": "execute_result"
    }
   ],
   "source": [
    "np.mean([\n",
    "    hp_at_k(f'{ss.pos()}{ss.offset():>08}'.lower(),\n",
    "            list(OrderedDict([\n",
    "                (f'{s.pos()}{s.offset():>08}'.lower(), None)\n",
    "                for fname in img_pred\n",
    "                for w in test_words.loc[Path(fname).name, 'word']\n",
    "                for s in wn.synsets(w) if s.pos() == 'n'\n",
    "            ]).keys()),\n",
    "            flickr8k_word_10k,\n",
    "            10)\n",
    "    for (img_true, _, word), img_pred in tqdmn(results.items(), total=len(results))\n",
    "    for ss in wn.synsets(word) if ss.pos() == 'n'\n",
    "    if f'{ss.pos()}{ss.offset():>08}'.lower() in flickr8k_word_10k\n",
    "])"
   ]
  },
  {
   "cell_type": "code",
   "execution_count": 90,
   "metadata": {},
   "outputs": [
    {
     "data": {
      "application/vnd.jupyter.widget-view+json": {
       "model_id": "3a986638683b43a8be4602be040e0be6",
       "version_major": 2,
       "version_minor": 0
      },
      "text/html": [
       "<p>Failed to display Jupyter Widget of type <code>HBox</code>.</p>\n",
       "<p>\n",
       "  If you're reading this message in the Jupyter Notebook or JupyterLab Notebook, it may mean\n",
       "  that the widgets JavaScript is still loading. If this message persists, it\n",
       "  likely means that the widgets JavaScript library is either not installed or\n",
       "  not enabled. See the <a href=\"https://ipywidgets.readthedocs.io/en/stable/user_install.html\">Jupyter\n",
       "  Widgets Documentation</a> for setup instructions.\n",
       "</p>\n",
       "<p>\n",
       "  If you're reading this message in another frontend (for example, a static\n",
       "  rendering on GitHub or <a href=\"https://nbviewer.jupyter.org/\">NBViewer</a>),\n",
       "  it may mean that your frontend doesn't currently support widgets.\n",
       "</p>\n"
      ],
      "text/plain": [
       "HBox(children=(IntProgress(value=0, max=15172), HTML(value='')))"
      ]
     },
     "metadata": {},
     "output_type": "display_data"
    },
    {
     "data": {
      "text/plain": [
       "0.018891104046554235"
      ]
     },
     "execution_count": 90,
     "metadata": {},
     "output_type": "execute_result"
    }
   ],
   "source": [
    "np.mean([\n",
    "    hp_at_k(f'{ss.pos()}{ss.offset():>08}'.lower(),\n",
    "            list(OrderedDict([\n",
    "                (f'{s.pos()}{s.offset():>08}'.lower(), None)\n",
    "                for fname in img_pred\n",
    "                for w in test_words.loc[Path(fname).name, 'word']\n",
    "                for s in wn.synsets(w) if s.pos() == 'n'\n",
    "            ]).keys()),\n",
    "            flickr8k_word_20k,\n",
    "            20)\n",
    "    for (img_true, _, word), img_pred in tqdmn(results.items(), total=len(results))\n",
    "    for ss in wn.synsets(word) if ss.pos() == 'n'\n",
    "    if f'{ss.pos()}{ss.offset():>08}'.lower() in flickr8k_word_20k\n",
    "])"
   ]
  },
  {
   "cell_type": "code",
   "execution_count": 95,
   "metadata": {
    "collapsed": true
   },
   "outputs": [
    {
     "name": "stdout",
     "output_type": "stream",
     "text": [
      "flickr8k_word_2k 5.055631611698818\n",
      "flickr8k_word_5k 21.228624766645925\n",
      "flickr8k_word_10k 33.814561294337274\n",
      "flickr8k_word_20k 54.34150591163659\n"
     ]
    }
   ],
   "source": [
    "base_sets = {'flickr8k_word_2k': flickr8k_word_2k, 'flickr8k_word_5k': flickr8k_word_5k,\n",
    "             'flickr8k_word_10k': flickr8k_word_10k, 'flickr8k_word_20k': flickr8k_word_20k}\n",
    "for base_set_name, base_set in base_sets.items():\n",
    "    print(base_set_name, np.mean([len(v) for v in base_set.values()]))"
   ]
  },
  {
   "cell_type": "code",
   "execution_count": 96,
   "metadata": {
    "collapsed": true
   },
   "outputs": [
    {
     "data": {
      "application/vnd.jupyter.widget-view+json": {
       "model_id": "765c852ab9594873873f5d2c8cee1585",
       "version_major": 2,
       "version_minor": 0
      },
      "text/html": [
       "<p>Failed to display Jupyter Widget of type <code>HBox</code>.</p>\n",
       "<p>\n",
       "  If you're reading this message in the Jupyter Notebook or JupyterLab Notebook, it may mean\n",
       "  that the widgets JavaScript is still loading. If this message persists, it\n",
       "  likely means that the widgets JavaScript library is either not installed or\n",
       "  not enabled. See the <a href=\"https://ipywidgets.readthedocs.io/en/stable/user_install.html\">Jupyter\n",
       "  Widgets Documentation</a> for setup instructions.\n",
       "</p>\n",
       "<p>\n",
       "  If you're reading this message in another frontend (for example, a static\n",
       "  rendering on GitHub or <a href=\"https://nbviewer.jupyter.org/\">NBViewer</a>),\n",
       "  it may mean that your frontend doesn't currently support widgets.\n",
       "</p>\n"
      ],
      "text/plain": [
       "HBox(children=(IntProgress(value=0, max=15172), HTML(value='')))"
      ]
     },
     "metadata": {},
     "output_type": "display_data"
    },
    {
     "data": {
      "text/plain": [
       "473.44990772475614"
      ]
     },
     "execution_count": 96,
     "metadata": {},
     "output_type": "execute_result"
    }
   ],
   "source": [
    "mean([len(list(OrderedDict([\n",
    "                (f'{s.pos()}{s.offset():>08}'.lower(), None)\n",
    "                for fname in img_pred\n",
    "                for w in test_words.loc[Path(fname).name, 'word']\n",
    "                for s in wn.synsets(w) if s.pos() == 'n'\n",
    "            ]).keys()))\n",
    " for (img_true, _, word), img_pred in tqdmn(results.items(), total=len(results))\n",
    "])"
   ]
  },
  {
   "cell_type": "code",
   "execution_count": 74,
   "metadata": {},
   "outputs": [
    {
     "data": {
      "text/plain": [
       "OrderedDict()"
      ]
     },
     "execution_count": 74,
     "metadata": {},
     "output_type": "execute_result"
    }
   ],
   "source": []
  },
  {
   "cell_type": "code",
   "execution_count": 78,
   "metadata": {},
   "outputs": [
    {
     "data": {
      "image/png": "[encoded data removed]",
      "text/plain": [
       "<matplotlib.figure.Figure at 0x7fe0f6aae470>"
      ]
     },
     "metadata": {},
     "output_type": "display_data"
    }
   ],
   "source": [
    "from collections import OrderedDict\n",
    "\n",
    "g = nx.Graph()\n",
    "g.add_edges_from(wn_is_a.as_matrix())\n",
    "ss_street_roots = wn.synsets('street')\n",
    "rel = lambda s: set(s.hypernyms()) | set(s.hyponyms())\n",
    "ss_street_closure = [ss for root in ss_street_roots for ss in root.closure(rel, depth=1)]\n",
    "cmap = sns.color_palette('Set2', n_colors=2)\n",
    "node_set = OrderedDict([(f'{ss.pos()}{ss.offset():>08}', (ss.name(), cmap[0]))\n",
    "                        for ss in ss_street_roots])\n",
    "node_set.update([(f'{ss.pos()}{ss.offset():>08}', (ss.name(), cmap[1]))\n",
    "                 for ss in ss_street_closure])\n",
    "\n",
    "k = g.subgraph(list(node_set))\n",
    "fig = plt.figure(figsize=(16, 8))\n",
    "ax = fig.gca()\n",
    "labels = OrderedDict([\n",
    "    (n, v[0])\n",
    "    for n, v in node_set.items()\n",
    "])\n",
    "nx.draw_networkx(k, pos=nx.spring_layout(k, iterations=21), ax=ax,\n",
    "                 nodelist=[n for n in node_set if n in k.nodes],\n",
    "                 labels=labels,\n",
    "                 node_color=list(zip(*node_set.values()))[1])\n",
    "ax.set_xticks([])\n",
    "ax.set_yticks([])\n",
    "sns.despine(left=True, bottom=True)"
   ]
  }
 ],
 "metadata": {
  "kernel_info": {
   "name": "thesis"
  },
  "kernelspec": {
   "display_name": "thesis",
   "language": "python",
   "name": "thesis"
  },
  "language_info": {
   "codemirror_mode": {
    "name": "ipython",
    "version": 3
   },
   "file_extension": ".py",
   "mimetype": "text/x-python",
   "name": "python",
   "nbconvert_exporter": "python",
   "pygments_lexer": "ipython3",
   "version": "3.6.4"
  },
  "toc": {
   "colors": {
    "hover_highlight": "#DAA520",
    "navigate_num": "#000000",
    "navigate_text": "#333333",
    "running_highlight": "#FF0000",
    "selected_highlight": "#FFD700",
    "sidebar_border": "#EEEEEE",
    "wrapper_background": "#FFFFFF"
   },
   "moveMenuLeft": true,
   "nav_menu": {
    "height": "12px",
    "width": "252px"
   },
   "navigate_menu": true,
   "number_sections": true,
   "sideBar": true,
   "threshold": 4,
   "toc_cell": false,
   "toc_section_display": "block",
   "toc_window_display": false,
   "widenNotebook": false
  }
 },
 "nbformat": 4,
 "nbformat_minor": 2
}
